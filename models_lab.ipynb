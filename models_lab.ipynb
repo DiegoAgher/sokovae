{
 "cells": [
  {
   "cell_type": "code",
   "execution_count": 15,
   "id": "facial-shannon",
   "metadata": {},
   "outputs": [],
   "source": [
    "import numpy as np\n",
    "from os import listdir"
   ]
  },
  {
   "cell_type": "code",
   "execution_count": 174,
   "id": "other-fields",
   "metadata": {},
   "outputs": [],
   "source": [
    "import torch\n",
    "import torchvision\n",
    "import matplotlib.pyplot as plt\n",
    "import torch.nn.functional as F\n",
    "\n",
    "\n",
    "from sklearn.model_selection import train_test_split\n",
    "from torch.nn import Module, Linear\n",
    "from torch.nn import LeakyReLU, ReLU, Conv2d, ConvTranspose2d, Tanh\n",
    "from torch.nn import BatchNorm2d, Dropout, Dropout2d, Flatten\n",
    "\n",
    "from models.bayeslayers import BayesianLayer\n",
    "\n",
    "\n",
    "class BaseVariational(torch.nn.Module):\n",
    "    def __init__(self):\n",
    "        super().__init__()\n",
    "\n",
    "    def forward(self, x, debug=False):\n",
    "        for layer in self.layers:\n",
    "            x = layer(x)\n",
    "            # if isinstance(layer, nn.Flatten):\n",
    "            #     print(x.shape)\n",
    "            if debug:\n",
    "                print(\"layer {}\".format(layer))\n",
    "                print(\"shape {}\".format(x.shape))\n",
    "                print(\"\")\n",
    "        return x\n",
    "\n",
    "    def predict(self, x, num_forward_passes=10):\n",
    "        pred = self.forward(x)\n",
    "        for i in range(num_forward_passes - 1):\n",
    "            pred += self.forward(x)\n",
    "        pred = pred / num_forward_passes\n",
    "\n",
    "        return latent\n",
    "\n",
    "    def kl_loss(self):\n",
    "        '''\n",
    "        Computes the KL divergence loss for all layers.\n",
    "        '''\n",
    "        kl = 0\n",
    "        for i, layer in enumerate(self.layers):\n",
    "            if isinstance(layer, BayesianLayer):\n",
    "                kl_ = layer.kl_divergence()\n",
    "                kl += kl_\n",
    "        return kl\n",
    "\n",
    "class CnnAE(torch.nn.Module):\n",
    "    def __init__(self, encoder, decoder):\n",
    "        super().__init__()\n",
    "        self.encoder = encoder\n",
    "        self.decoder = decoder\n",
    "\n",
    "    def forward(self, x):\n",
    "        latent_representation = self.encoder(x)\n",
    "        reconstruction = self.decoder(latent_representation)\n",
    "        return reconstruction\n",
    "\n",
    "    def predict(self, x, num_forward_passes=10):\n",
    "\n",
    "        latent_representation = self.encoder(x)\n",
    "        reconstruction = self.decoder(latent_representation)\n",
    "\n",
    "        for i in range(num_forward_passes - 1):\n",
    "            curr_latent = self.encoder(x)\n",
    "            latent_representation += curr_latent\n",
    "            reconstruction += self.decoder(curr_latent)\n",
    "        latent_representation = latent_representation / num_forward_passes\n",
    "        reconstruction = reconstruction / num_forward_passes\n",
    "\n",
    "        return latent_representation, reconstruction\n",
    "    def params(self):\n",
    "        return list(self.encoder.parameters()) + list(self.decoder.parameters())\n",
    "\n",
    "\n",
    "    def kl_loss(self):\n",
    "        '''\n",
    "        Computes the KL divergence loss for all layers.\n",
    "        '''\n",
    "        kl = 0\n",
    "        for i, layer in enumerate(self.encoder.layers):\n",
    "            if isinstance(layer, BayesianLayer):\n",
    "                kl_ = layer.kl_divergence()\n",
    "                kl += kl_\n",
    "        return kl"
   ]
  },
  {
   "cell_type": "code",
   "execution_count": 34,
   "id": "executive-craps",
   "metadata": {},
   "outputs": [],
   "source": []
  },
  {
   "cell_type": "code",
   "execution_count": 35,
   "id": "nervous-breeding",
   "metadata": {},
   "outputs": [],
   "source": []
  },
  {
   "cell_type": "code",
   "execution_count": null,
   "id": "twenty-exclusion",
   "metadata": {},
   "outputs": [],
   "source": []
  },
  {
   "cell_type": "code",
   "execution_count": 11,
   "id": "flexible-square",
   "metadata": {},
   "outputs": [
    {
     "name": "stdout",
     "output_type": "stream",
     "text": [
      "README.md               sample2.zip             test_models.py\r\n",
      "\u001b[34mTrain\u001b[m\u001b[m                   small_ae_15_latents.txt zip_and_delete.py\r\n",
      "\u001b[34mmodels\u001b[m\u001b[m                  small_ae_25_latents.txt zipped_npy_2.zip\r\n",
      "models_lab.ipynb        sok_example.py\r\n"
     ]
    }
   ],
   "source": [
    "! ls"
   ]
  },
  {
   "cell_type": "code",
   "execution_count": 12,
   "id": "expensive-premium",
   "metadata": {},
   "outputs": [
    {
     "name": "stdout",
     "output_type": "stream",
     "text": [
      "Archive:  zipped_npy_2.zip\n",
      " extracting: states_gameplay_0.npy   \n",
      " extracting: states_scaled_gameplay_0.npy  \n",
      " extracting: actions_gameplay_0.npy  \n",
      " extracting: next_states_gameplay_0.npy  \n",
      " extracting: rewards_gameplay_0.npy  \n",
      " extracting: done_gameplay_0.npy     \n",
      " extracting: next_states_scaled_gameplay_0.npy  \n"
     ]
    }
   ],
   "source": [
    "! unzip zipped_npy_2.zip"
   ]
  },
  {
   "cell_type": "code",
   "execution_count": 20,
   "id": "premier-hurricane",
   "metadata": {},
   "outputs": [
    {
     "name": "stdout",
     "output_type": "stream",
     "text": [
      "states_gameplay_0.npy\n",
      "states_scaled_gameplay_0.npy\n",
      "actions_gameplay_0.npy\n",
      "next_states_gameplay_0.npy\n",
      "rewards_gameplay_0.npy\n",
      "done_gameplay_0.npy\n",
      "next_states_scaled_gameplay_0.npy\n"
     ]
    }
   ],
   "source": [
    "files_here = listdir()\n",
    "np_files = [x for x in files_here if x.endswith('.npy')]\n",
    "actions = np.array([])\n",
    "next_states_scaled = np.array([])\n",
    "scaled = np.array([])\n",
    "\n",
    "for idx, file_name in enumerate(np_files):\n",
    "  with open(file_name, 'rb') as f:\n",
    "    current_array = np.load(f) \n",
    "  print(file_name)\n",
    "  if file_name.startswith('states_scaled'):\n",
    "    if len(scaled) == 0:\n",
    "      scaled = current_array\n",
    "    else:\n",
    "      scaled = np.concatenate([scaled, current_array])\n",
    "  elif file_name.startswith('next_states_scaled'):\n",
    "    if len(next_states_scaled) == 0:\n",
    "      next_states_scaled = current_array\n",
    "    else:\n",
    "      next_states_scaled = np.concatenate([next_states_scaled, current_array])\n",
    "  elif file_name.startswith('actions'):\n",
    "    if len(actions) == 0:\n",
    "      actions = current_array\n",
    "    else:\n",
    "      actions = np.concatenate([actions, current_array])\n",
    "  "
   ]
  },
  {
   "cell_type": "code",
   "execution_count": 21,
   "id": "tracked-market",
   "metadata": {},
   "outputs": [],
   "source": [
    "train_scaled, eval_scaled, train_next_states, eval_next_states = train_test_split(\n",
    "    scaled, next_states_scaled, test_size=0.15, random_state=42)\n",
    "\n",
    "train_actions, eval_actions = train_test_split(actions, test_size=0.15, random_state=42)"
   ]
  },
  {
   "cell_type": "code",
   "execution_count": 24,
   "id": "transsexual-bundle",
   "metadata": {},
   "outputs": [],
   "source": [
    "class MyDataset(torch.utils.data.Dataset):\n",
    "    def __init__(self, data, action_next_state=(None, None), transform=None):\n",
    "        self.data = data\n",
    "        self.transform = transform\n",
    "        self.action, self.next_state = action_next_state       \n",
    "\n",
    "    def __getitem__(self, index):\n",
    "        x = self.data[index]\n",
    "\n",
    "        if self.transform:\n",
    "            x = self.transform(x)\n",
    "\n",
    "        items = x\n",
    "        if self.action is not None:\n",
    "            y = self.action[index]\n",
    "            z = self.next_state[index]\n",
    "            z = self.transform(z)\n",
    "            items = (x, y, z)\n",
    "\n",
    "        return items\n",
    "\n",
    "    def __len__(self):\n",
    "        return len(self.data)\n",
    "\n",
    "means = torch.tensor([0.5, 0.5, 0.5], dtype=torch.float32)\n",
    "stds = torch.tensor([0.5, 0.5, 0.5], dtype=torch.float32)\n",
    "to_tensor = torchvision.transforms.Compose([\n",
    "                                torchvision.transforms.ToTensor(),\n",
    "                                torchvision.transforms.Normalize(\n",
    "                                                        mean=means,\n",
    "                                                        std=stds)\n",
    "                                             ])\n",
    "\n",
    "\n",
    "scaled_states_actions_dataset = MyDataset(train_scaled, (train_actions, train_next_states), transform=to_tensor)\n",
    "scaled_states_actions_loader = torch.utils.data.DataLoader(scaled_states_actions_dataset, batch_size=64,\n",
    "                                                    shuffle=True)\n",
    "\n",
    "eval_scaled_states_actions_dataset = MyDataset(eval_scaled, (eval_actions , eval_next_states), transform=to_tensor)\n",
    "eval_scaled_states_actions_loader = torch.utils.data.DataLoader(eval_scaled_states_actions_dataset, batch_size=2,\n",
    "                                                    shuffle=True)\n"
   ]
  },
  {
   "cell_type": "code",
   "execution_count": 31,
   "id": "medium-pitch",
   "metadata": {},
   "outputs": [
    {
     "data": {
      "image/png": "[encoded data removed]",
      "text/plain": [
       "<Figure size 432x288 with 1 Axes>"
      ]
     },
     "metadata": {
      "needs_background": "light"
     },
     "output_type": "display_data"
    },
    {
     "data": {
      "image/png": "[encoded data removed]",
      "text/plain": [
       "<Figure size 432x288 with 1 Axes>"
      ]
     },
     "metadata": {
      "needs_background": "light"
     },
     "output_type": "display_data"
    }
   ],
   "source": [
    "def show_img(img_tensor):\n",
    "    img = img_tensor[0]\n",
    "    denormed_img = denormalize(img)\n",
    "    plt.imshow(denormed_img.detach().numpy().transpose(1, 2, 0))\n",
    "    plt.show()\n",
    "\n",
    "def denormalize(normed_img):\n",
    "\n",
    "    return normed_img * stds[:, None, None] + means[:, None, None]\n",
    "\n",
    "_, (state, action, next_state) = next(enumerate(scaled_states_actions_loader))\n",
    "show_img(state)\n",
    "\n",
    "_, (state, action, next_state) = next(enumerate(eval_scaled_states_actions_loader))\n",
    "show_img(state)"
   ]
  },
  {
   "cell_type": "code",
   "execution_count": 103,
   "id": "several-press",
   "metadata": {},
   "outputs": [],
   "source": [
    "class DeepEncoderSmall(BaseVariational):\n",
    "    '''\n",
    "    Takes in as input batches of images of size [batch_size, 40, 40, 3]\n",
    "    '''\n",
    "    def __init__(self, latent_size=9):\n",
    "        super().__init__()\n",
    "        self.latent_size = latent_size\n",
    "        self.layers = torch.nn.ModuleList(self._init_layers())\n",
    "\n",
    "    def _init_layers(self):\n",
    "        layers = [\n",
    "                Conv2d(in_channels=3, out_channels=32,\n",
    "                      kernel_size=3, stride=2, padding=1),\n",
    "                ReLU(),\n",
    "                Conv2d(in_channels=32, out_channels=64,\n",
    "                          kernel_size=3, stride=2, padding=1),\n",
    "                ReLU(),\n",
    "                Conv2d(in_channels=64, out_channels=128,\n",
    "                          kernel_size=3, stride=2, padding=1),\n",
    "                BatchNorm2d(128),\n",
    "                ReLU(),\n",
    "                Conv2d(in_channels=128, out_channels=256,\n",
    "                          kernel_size=3, stride=2, padding=1),\n",
    "                ReLU(),\n",
    "                Conv2d(in_channels=256, out_channels=256,\n",
    "                          kernel_size=3, stride=3, padding=4),\n",
    "                ReLU(),\n",
    "                Conv2d(in_channels=256, out_channels=512,\n",
    "                          kernel_size=3, stride=1, padding=1),\n",
    "                BatchNorm2d(512),\n",
    "                ReLU(),\n",
    "                Conv2d(in_channels=512, out_channels=512,\n",
    "                          kernel_size=3, stride=3, padding=4),\n",
    "                BatchNorm2d(512),\n",
    "                ReLU(),\n",
    "                Conv2d(in_channels=512, out_channels=1024,\n",
    "                          kernel_size=3, stride=1, padding=1),\n",
    "                BatchNorm2d(1024),\n",
    "                ReLU(),\n",
    "                Conv2d(in_channels=1024, out_channels=1024,\n",
    "                          kernel_size=3, stride=3, padding=4),\n",
    "                BatchNorm2d(1024),\n",
    "                ReLU(),\n",
    "                Dropout2d(p=0.25),\n",
    "                Flatten(),\n",
    "                Dropout(p=0.4),\n",
    "                Linear(9216, int(9216 / 9)),\n",
    "                ReLU(),\n",
    "                Dropout(p=0.4),\n",
    "                BayesianLayer(int(9216 / 9), self.latent_size)]\n",
    "        return layers"
   ]
  },
  {
   "cell_type": "code",
   "execution_count": 104,
   "id": "structured-florence",
   "metadata": {
    "scrolled": true
   },
   "outputs": [
    {
     "name": "stdout",
     "output_type": "stream",
     "text": [
      "layer Conv2d(3, 32, kernel_size=(3, 3), stride=(2, 2), padding=(1, 1))\n",
      "shape torch.Size([2, 32, 20, 20])\n",
      "\n",
      "layer ReLU()\n",
      "shape torch.Size([2, 32, 20, 20])\n",
      "\n",
      "layer Conv2d(32, 64, kernel_size=(3, 3), stride=(2, 2), padding=(1, 1))\n",
      "shape torch.Size([2, 64, 10, 10])\n",
      "\n",
      "layer ReLU()\n",
      "shape torch.Size([2, 64, 10, 10])\n",
      "\n",
      "layer Conv2d(64, 128, kernel_size=(3, 3), stride=(2, 2), padding=(1, 1))\n",
      "shape torch.Size([2, 128, 5, 5])\n",
      "\n",
      "layer BatchNorm2d(128, eps=1e-05, momentum=0.1, affine=True, track_running_stats=True)\n",
      "shape torch.Size([2, 128, 5, 5])\n",
      "\n",
      "layer ReLU()\n",
      "shape torch.Size([2, 128, 5, 5])\n",
      "\n",
      "layer Conv2d(128, 256, kernel_size=(3, 3), stride=(2, 2), padding=(1, 1))\n",
      "shape torch.Size([2, 256, 3, 3])\n",
      "\n",
      "layer ReLU()\n",
      "shape torch.Size([2, 256, 3, 3])\n",
      "\n",
      "layer Conv2d(256, 512, kernel_size=(3, 3), stride=(1, 1), padding=(1, 1))\n",
      "shape torch.Size([2, 512, 3, 3])\n",
      "\n",
      "layer BatchNorm2d(512, eps=1e-05, momentum=0.1, affine=True, track_running_stats=True)\n",
      "shape torch.Size([2, 512, 3, 3])\n",
      "\n",
      "layer ReLU()\n",
      "shape torch.Size([2, 512, 3, 3])\n",
      "\n",
      "layer Conv2d(512, 1024, kernel_size=(3, 3), stride=(1, 1), padding=(1, 1))\n",
      "shape torch.Size([2, 1024, 3, 3])\n",
      "\n",
      "layer BatchNorm2d(1024, eps=1e-05, momentum=0.1, affine=True, track_running_stats=True)\n",
      "shape torch.Size([2, 1024, 3, 3])\n",
      "\n",
      "layer ReLU()\n",
      "shape torch.Size([2, 1024, 3, 3])\n",
      "\n",
      "layer Conv2d(1024, 1024, kernel_size=(3, 3), stride=(3, 3), padding=(4, 4))\n",
      "shape torch.Size([2, 1024, 3, 3])\n",
      "\n",
      "layer BatchNorm2d(1024, eps=1e-05, momentum=0.1, affine=True, track_running_stats=True)\n",
      "shape torch.Size([2, 1024, 3, 3])\n",
      "\n",
      "layer ReLU()\n",
      "shape torch.Size([2, 1024, 3, 3])\n",
      "\n",
      "layer Dropout2d(p=0.25, inplace=False)\n",
      "shape torch.Size([2, 1024, 3, 3])\n",
      "\n",
      "layer Flatten()\n",
      "shape torch.Size([2, 9216])\n",
      "\n",
      "layer Dropout(p=0.4, inplace=False)\n",
      "shape torch.Size([2, 9216])\n",
      "\n",
      "layer Linear(in_features=9216, out_features=1024, bias=True)\n",
      "shape torch.Size([2, 1024])\n",
      "\n",
      "layer ReLU()\n",
      "shape torch.Size([2, 1024])\n",
      "\n",
      "layer Dropout(p=0.4, inplace=False)\n",
      "shape torch.Size([2, 1024])\n",
      "\n",
      "layer BayesianLayer()\n",
      "shape torch.Size([2, 9])\n",
      "\n",
      "torch.Size([2, 3, 40, 40])\n"
     ]
    }
   ],
   "source": [
    "encoder = EncoderSmall(9)\n",
    "encoded = encoder(state, debug=True)\n",
    "print(state.shape)"
   ]
  },
  {
   "cell_type": "code",
   "execution_count": 107,
   "id": "imported-license",
   "metadata": {},
   "outputs": [],
   "source": [
    "class DeepDecoderSmall(BaseVariational):\n",
    "    '''\n",
    "    Use with SmallDecoder.\n",
    "    will take a Dense vector and turn it into batches of size [batch_size, 40, 40, 3]\n",
    "    '''\n",
    "    def __init__(self, latent_size):\n",
    "        super().__init__()\n",
    "        self.latent_size = latent_size\n",
    "        self.layers = torch.nn.ModuleList(self._init_layers())\n",
    "\n",
    "    def _init_layers(self):\n",
    "        self.start_decode = Linear(self.latent_size, int(9216 / 9))\n",
    "        self.drop_linear_one = Dropout(p=0.4)\n",
    "        self.start_decodeb = Linear(int(9216 / 9), 9216)\n",
    "        self.drop_linear_two = Dropout(p=0.4)\n",
    "        layers = [\n",
    "                ConvTranspose2d(in_channels=1024, out_channels=1024,\n",
    "                          kernel_size=3, stride=3, padding=3),\n",
    "                BatchNorm2d(1024),\n",
    "                Dropout2d(p=0.25),\n",
    "                ReLU(),\n",
    "                ConvTranspose2d(in_channels=1024, out_channels=1024,\n",
    "                          kernel_size=3, stride=3, padding=3),\n",
    "                BatchNorm2d(1024),\n",
    "                Dropout2d(p=0.25),\n",
    "                ReLU(),\n",
    "                ConvTranspose2d(in_channels=1024, out_channels=512,\n",
    "                          kernel_size=3, stride=2, padding=1, output_padding=1),\n",
    "                BatchNorm2d(512),\n",
    "                Dropout2d(p=0.25),\n",
    "                ReLU(),\n",
    "                ConvTranspose2d(in_channels=512, out_channels=512,\n",
    "                          kernel_size=3, stride=3, padding=3),\n",
    "                BatchNorm2d(512),\n",
    "                Dropout2d(p=0.25),\n",
    "                ReLU(),\n",
    "                ConvTranspose2d(in_channels=512, out_channels=256,\n",
    "                          kernel_size=3, stride=2, padding=1, output_padding=1),\n",
    "                BatchNorm2d(256),\n",
    "                ReLU(),\n",
    "                ConvTranspose2d(in_channels=256, out_channels=256,\n",
    "                          kernel_size=3, stride=3, padding=3),\n",
    "                BatchNorm2d(256),\n",
    "                ReLU(),\n",
    "                ConvTranspose2d(in_channels=256, out_channels=128,\n",
    "                          kernel_size=3, stride=2, padding=1),\n",
    "                BatchNorm2d(128),\n",
    "                ReLU(),\n",
    "                ConvTranspose2d(in_channels=128, out_channels=128,\n",
    "                          kernel_size=3, stride=3, padding=3),\n",
    "                BatchNorm2d(128),\n",
    "                ReLU(),\n",
    "                ConvTranspose2d(in_channels=128, out_channels=64,\n",
    "                      kernel_size=3, stride=2, padding=2),\n",
    "                BatchNorm2d(64),\n",
    "                ReLU(),\n",
    "                ConvTranspose2d(in_channels=64, out_channels=32,\n",
    "                          kernel_size=3, stride=1, padding=1),\n",
    "                BatchNorm2d(32),\n",
    "                ReLU(),\n",
    "                ConvTranspose2d(in_channels=32, out_channels=16,\n",
    "                                          kernel_size=3, stride=1, padding=1),\n",
    "                ReLU(),\n",
    "                BatchNorm2d(16),\n",
    "                Conv2d(in_channels=16, out_channels=8,\n",
    "                          kernel_size=4, stride=1, padding=1),\n",
    "                ReLU(),   \n",
    "                Conv2d(in_channels=8, out_channels=3,\n",
    "                          kernel_size=3, stride=1, padding=0),\n",
    "                Tanh()    \n",
    "            ]\n",
    "        return layers\n",
    "    \n",
    "    def forward(self, x, debug=False):\n",
    "        x = self.start_decode(x)\n",
    "        x = self.drop_linear_one(x)\n",
    "        x = F.relu(x)\n",
    "        x = self.start_decodeb(x)\n",
    "        x = self.drop_linear_two(x)\n",
    "        x = F.relu(x)\n",
    "        x = x.reshape(-1, 1024, 3, 3)\n",
    "\n",
    "        for idx, layer in enumerate(self.layers):\n",
    "            x = layer(x)\n",
    "            if debug:\n",
    "                print(\"layer {}\".format(layer))\n",
    "                print(\"shape {}\".format(x.shape))\n",
    "                print(\"\")\n",
    "        return x"
   ]
  },
  {
   "cell_type": "code",
   "execution_count": 108,
   "id": "thirty-charlotte",
   "metadata": {
    "scrolled": true
   },
   "outputs": [
    {
     "name": "stdout",
     "output_type": "stream",
     "text": [
      "layer ConvTranspose2d(1024, 1024, kernel_size=(3, 3), stride=(3, 3), padding=(3, 3))\n",
      "shape torch.Size([2, 1024, 3, 3])\n",
      "\n",
      "layer BatchNorm2d(1024, eps=1e-05, momentum=0.1, affine=True, track_running_stats=True)\n",
      "shape torch.Size([2, 1024, 3, 3])\n",
      "\n",
      "layer Dropout2d(p=0.25, inplace=False)\n",
      "shape torch.Size([2, 1024, 3, 3])\n",
      "\n",
      "layer ReLU()\n",
      "shape torch.Size([2, 1024, 3, 3])\n",
      "\n",
      "layer ConvTranspose2d(1024, 1024, kernel_size=(3, 3), stride=(3, 3), padding=(3, 3))\n",
      "shape torch.Size([2, 1024, 3, 3])\n",
      "\n",
      "layer BatchNorm2d(1024, eps=1e-05, momentum=0.1, affine=True, track_running_stats=True)\n",
      "shape torch.Size([2, 1024, 3, 3])\n",
      "\n",
      "layer Dropout2d(p=0.25, inplace=False)\n",
      "shape torch.Size([2, 1024, 3, 3])\n",
      "\n",
      "layer ReLU()\n",
      "shape torch.Size([2, 1024, 3, 3])\n",
      "\n",
      "layer ConvTranspose2d(1024, 512, kernel_size=(3, 3), stride=(2, 2), padding=(1, 1), output_padding=(1, 1))\n",
      "shape torch.Size([2, 512, 6, 6])\n",
      "\n",
      "layer BatchNorm2d(512, eps=1e-05, momentum=0.1, affine=True, track_running_stats=True)\n",
      "shape torch.Size([2, 512, 6, 6])\n",
      "\n",
      "layer Dropout2d(p=0.25, inplace=False)\n",
      "shape torch.Size([2, 512, 6, 6])\n",
      "\n",
      "layer ReLU()\n",
      "shape torch.Size([2, 512, 6, 6])\n",
      "\n",
      "layer ConvTranspose2d(512, 256, kernel_size=(3, 3), stride=(2, 2), padding=(1, 1), output_padding=(1, 1))\n",
      "shape torch.Size([2, 256, 12, 12])\n",
      "\n",
      "layer BatchNorm2d(256, eps=1e-05, momentum=0.1, affine=True, track_running_stats=True)\n",
      "shape torch.Size([2, 256, 12, 12])\n",
      "\n",
      "layer ReLU()\n",
      "shape torch.Size([2, 256, 12, 12])\n",
      "\n",
      "layer ConvTranspose2d(256, 128, kernel_size=(3, 3), stride=(2, 2), padding=(1, 1))\n",
      "shape torch.Size([2, 128, 23, 23])\n",
      "\n",
      "layer BatchNorm2d(128, eps=1e-05, momentum=0.1, affine=True, track_running_stats=True)\n",
      "shape torch.Size([2, 128, 23, 23])\n",
      "\n",
      "layer ReLU()\n",
      "shape torch.Size([2, 128, 23, 23])\n",
      "\n",
      "layer ConvTranspose2d(128, 64, kernel_size=(3, 3), stride=(2, 2), padding=(2, 2))\n",
      "shape torch.Size([2, 64, 43, 43])\n",
      "\n",
      "layer BatchNorm2d(64, eps=1e-05, momentum=0.1, affine=True, track_running_stats=True)\n",
      "shape torch.Size([2, 64, 43, 43])\n",
      "\n",
      "layer ReLU()\n",
      "shape torch.Size([2, 64, 43, 43])\n",
      "\n",
      "layer ConvTranspose2d(64, 32, kernel_size=(3, 3), stride=(1, 1), padding=(1, 1))\n",
      "shape torch.Size([2, 32, 43, 43])\n",
      "\n",
      "layer BatchNorm2d(32, eps=1e-05, momentum=0.1, affine=True, track_running_stats=True)\n",
      "shape torch.Size([2, 32, 43, 43])\n",
      "\n",
      "layer ReLU()\n",
      "shape torch.Size([2, 32, 43, 43])\n",
      "\n",
      "layer ConvTranspose2d(32, 16, kernel_size=(3, 3), stride=(1, 1), padding=(1, 1))\n",
      "shape torch.Size([2, 16, 43, 43])\n",
      "\n",
      "layer ReLU()\n",
      "shape torch.Size([2, 16, 43, 43])\n",
      "\n",
      "layer BatchNorm2d(16, eps=1e-05, momentum=0.1, affine=True, track_running_stats=True)\n",
      "shape torch.Size([2, 16, 43, 43])\n",
      "\n",
      "layer Conv2d(16, 8, kernel_size=(4, 4), stride=(1, 1), padding=(1, 1))\n",
      "shape torch.Size([2, 8, 42, 42])\n",
      "\n",
      "layer ReLU()\n",
      "shape torch.Size([2, 8, 42, 42])\n",
      "\n",
      "layer Conv2d(8, 3, kernel_size=(3, 3), stride=(1, 1))\n",
      "shape torch.Size([2, 3, 40, 40])\n",
      "\n",
      "layer Tanh()\n",
      "shape torch.Size([2, 3, 40, 40])\n",
      "\n"
     ]
    }
   ],
   "source": [
    "decoder = DecoderSmall(9)\n",
    "decoded = decoder(encoded, debug=True)"
   ]
  },
  {
   "cell_type": "code",
   "execution_count": 99,
   "id": "according-thumb",
   "metadata": {},
   "outputs": [
    {
     "data": {
      "text/plain": [
       "torch.Size([2, 3, 40, 40])"
      ]
     },
     "execution_count": 99,
     "metadata": {},
     "output_type": "execute_result"
    }
   ],
   "source": [
    "state.shape"
   ]
  },
  {
   "cell_type": "code",
   "execution_count": 187,
   "id": "ongoing-hollywood",
   "metadata": {},
   "outputs": [],
   "source": [
    "class SmallEncoder40(BaseVariational):\n",
    "    '''\n",
    "    Takes in as input batches of images of size [batch_size, 40, 40, 3]\n",
    "    '''\n",
    "    def __init__(self, latent_size, layers_dims, activation='relu'):\n",
    "        super().__init__()\n",
    "        self.latent_size = latent_size\n",
    "        self.layers_dims = layers_dims\n",
    "        self.activation = LeakyReLU if activation is not 'relu' else ReLU\n",
    "        self.layers = torch.nn.ModuleList(self._init_layers())\n",
    "\n",
    "    def _init_layers(self):\n",
    "        layers = []\n",
    "        for idx, dims in enumerate(self.layers_dims):\n",
    "            if idx == 0:\n",
    "                current_dims = 3\n",
    "                next_dims = dims\n",
    "            else:\n",
    "                current_dims = self.layers_dims[idx - 1]\n",
    "                next_dims = dims\n",
    "\n",
    "            layers.extend(\n",
    "                    [\n",
    "                    Conv2d(in_channels=current_dims, out_channels=next_dims,\n",
    "                           kernel_size=3, stride=2, padding=1),\n",
    "                    BatchNorm2d(next_dims),\n",
    "                    self.activation(),\n",
    "                    ])\n",
    "\n",
    "        flat_size = self.layers_dims[-1] * 5 * 5\n",
    "        layers.extend([\n",
    "                Flatten(),\n",
    "                Dropout(p=0.25),\n",
    "                Linear(flat_size, int(flat_size / 9)),\n",
    "                ReLU(),\n",
    "                #Dropout(p=0.4),\n",
    "                BayesianLayer(int(flat_size / 9), self.latent_size)]\n",
    "        )\n",
    "        return layers"
   ]
  },
  {
   "cell_type": "code",
   "execution_count": 192,
   "id": "ordinary-secretariat",
   "metadata": {
    "scrolled": true
   },
   "outputs": [
    {
     "name": "stdout",
     "output_type": "stream",
     "text": [
      "layer Conv2d(3, 32, kernel_size=(3, 3), stride=(2, 2), padding=(1, 1))\n",
      "shape torch.Size([2, 32, 20, 20])\n",
      "\n",
      "layer BatchNorm2d(32, eps=1e-05, momentum=0.1, affine=True, track_running_stats=True)\n",
      "shape torch.Size([2, 32, 20, 20])\n",
      "\n",
      "layer ReLU()\n",
      "shape torch.Size([2, 32, 20, 20])\n",
      "\n",
      "layer Conv2d(32, 64, kernel_size=(3, 3), stride=(2, 2), padding=(1, 1))\n",
      "shape torch.Size([2, 64, 10, 10])\n",
      "\n",
      "layer BatchNorm2d(64, eps=1e-05, momentum=0.1, affine=True, track_running_stats=True)\n",
      "shape torch.Size([2, 64, 10, 10])\n",
      "\n",
      "layer ReLU()\n",
      "shape torch.Size([2, 64, 10, 10])\n",
      "\n",
      "layer Conv2d(64, 128, kernel_size=(3, 3), stride=(2, 2), padding=(1, 1))\n",
      "shape torch.Size([2, 128, 5, 5])\n",
      "\n",
      "layer BatchNorm2d(128, eps=1e-05, momentum=0.1, affine=True, track_running_stats=True)\n",
      "shape torch.Size([2, 128, 5, 5])\n",
      "\n",
      "layer ReLU()\n",
      "shape torch.Size([2, 128, 5, 5])\n",
      "\n",
      "layer Flatten()\n",
      "shape torch.Size([2, 3200])\n",
      "\n",
      "layer Dropout(p=0.25, inplace=False)\n",
      "shape torch.Size([2, 3200])\n",
      "\n",
      "layer Linear(in_features=3200, out_features=355, bias=True)\n",
      "shape torch.Size([2, 355])\n",
      "\n",
      "layer ReLU()\n",
      "shape torch.Size([2, 355])\n",
      "\n",
      "layer BayesianLayer()\n",
      "shape torch.Size([2, 9])\n",
      "\n"
     ]
    }
   ],
   "source": [
    "layers_dims = [32, 64, 128]\n",
    "encoder = SmallEncoder40(9, layers_dims, 'relu')\n",
    "encoded = encoder(state, debug=True)"
   ]
  },
  {
   "cell_type": "code",
   "execution_count": 196,
   "id": "opening-graduation",
   "metadata": {},
   "outputs": [],
   "source": [
    "class SmallDecoder40(BaseVariational):\n",
    "    '''\n",
    "    Use with SmallEncoder40.\n",
    "    will take a Dense vector and turn it into batches of size [batch_size, 40, 40, 3]\n",
    "    '''\n",
    "    def __init__(self, latent_size, layers_dims, activation='relu'):\n",
    "        super().__init__()\n",
    "        self.latent_size = latent_size\n",
    "        self.layers_dims = layers_dims\n",
    "        self.activation = LeakyReLU if activation is not 'relu' else ReLU\n",
    "        self.layers = torch.nn.ModuleList(self._init_layers())\n",
    "\n",
    "    def _init_layers(self):\n",
    "        flat_size = self.layers_dims[0] * 5 * 5\n",
    "        self.start_decode = Linear(self.latent_size, int(flat_size / 9))\n",
    "        self.drop_linear_one = Dropout(p=0.4)\n",
    "        self.start_decodeb = Linear(int(flat_size / 9), flat_size)\n",
    "        self.drop_linear_two = Dropout(p=0.4)\n",
    "\n",
    "        stride = 3\n",
    "        padding = 3\n",
    "        output_padding = 0\n",
    "        layers = []\n",
    "        for idx, dims in enumerate(self.layers_dims):\n",
    "\n",
    "            if idx == 2:\n",
    "                current_dims = dims\n",
    "                next_dims = 8\n",
    "            else:\n",
    "                current_dims = dims\n",
    "                next_dims = self.layers_dims[idx + 1]\n",
    "\n",
    "            if idx == 2:\n",
    "                stride = 2\n",
    "                padding = 1\n",
    "                output_padding = 1\n",
    "\n",
    "            layers.extend(\n",
    "                [\n",
    "                Dropout2d(p=0.1),\n",
    "                ConvTranspose2d(in_channels=current_dims,\n",
    "                                 out_channels=next_dims,\n",
    "                                 kernel_size=3, stride=stride, padding=padding,\n",
    "                                 output_padding=output_padding),\n",
    "                BatchNorm2d(next_dims),\n",
    "                self.activation()\n",
    "                ]\n",
    "              )\n",
    "\n",
    "        layers.extend(\n",
    "                [Conv2d(in_channels=8, out_channels=3,\n",
    "                        kernel_size=3, stride=1, padding=0),\n",
    "                 Tanh()]\n",
    "                    )\n",
    "        return layers\n",
    "    \n",
    "    def forward(self, x, debug=False):\n",
    "        x = self.drop_linear_one(x)\n",
    "        x = self.start_decode(x)\n",
    "        x = F.relu(x)\n",
    "        x = self.drop_linear_two(x)\n",
    "        x = self.start_decodeb(x)\n",
    "        x = F.relu(x)\n",
    "        \n",
    "        init_channels = self.layers_dims[0]\n",
    "        x = x.reshape(-1, init_channels, 5, 5)\n",
    "\n",
    "        for idx, layer in enumerate(self.layers):\n",
    "            x = layer(x)\n",
    "            if debug:\n",
    "                print(\"layer {}\".format(layer))\n",
    "                print(\"shape {}\".format(x.shape))\n",
    "                print(\"\")\n",
    "        return x"
   ]
  },
  {
   "cell_type": "code",
   "execution_count": 197,
   "id": "capable-momentum",
   "metadata": {
    "scrolled": true
   },
   "outputs": [
    {
     "name": "stdout",
     "output_type": "stream",
     "text": [
      "layer Dropout2d(p=0.1, inplace=False)\n",
      "shape torch.Size([2, 128, 5, 5])\n",
      "\n",
      "layer ConvTranspose2d(128, 64, kernel_size=(3, 3), stride=(3, 3), padding=(3, 3))\n",
      "shape torch.Size([2, 64, 9, 9])\n",
      "\n",
      "layer BatchNorm2d(64, eps=1e-05, momentum=0.1, affine=True, track_running_stats=True)\n",
      "shape torch.Size([2, 64, 9, 9])\n",
      "\n",
      "layer LeakyReLU(negative_slope=0.01)\n",
      "shape torch.Size([2, 64, 9, 9])\n",
      "\n",
      "layer Dropout2d(p=0.1, inplace=False)\n",
      "shape torch.Size([2, 64, 9, 9])\n",
      "\n",
      "layer ConvTranspose2d(64, 32, kernel_size=(3, 3), stride=(3, 3), padding=(3, 3))\n",
      "shape torch.Size([2, 32, 21, 21])\n",
      "\n",
      "layer BatchNorm2d(32, eps=1e-05, momentum=0.1, affine=True, track_running_stats=True)\n",
      "shape torch.Size([2, 32, 21, 21])\n",
      "\n",
      "layer LeakyReLU(negative_slope=0.01)\n",
      "shape torch.Size([2, 32, 21, 21])\n",
      "\n",
      "layer Dropout2d(p=0.1, inplace=False)\n",
      "shape torch.Size([2, 32, 21, 21])\n",
      "\n",
      "layer ConvTranspose2d(32, 8, kernel_size=(3, 3), stride=(2, 2), padding=(1, 1), output_padding=(1, 1))\n",
      "shape torch.Size([2, 8, 42, 42])\n",
      "\n",
      "layer BatchNorm2d(8, eps=1e-05, momentum=0.1, affine=True, track_running_stats=True)\n",
      "shape torch.Size([2, 8, 42, 42])\n",
      "\n",
      "layer LeakyReLU(negative_slope=0.01)\n",
      "shape torch.Size([2, 8, 42, 42])\n",
      "\n",
      "layer Conv2d(8, 3, kernel_size=(3, 3), stride=(1, 1))\n",
      "shape torch.Size([2, 3, 40, 40])\n",
      "\n",
      "layer Tanh()\n",
      "shape torch.Size([2, 3, 40, 40])\n",
      "\n"
     ]
    }
   ],
   "source": [
    "decoder = SmallDecoder40(9, [128, 64, 32], 'leaky')\n",
    "decoded = decoder(encoded, debug=True)"
   ]
  },
  {
   "cell_type": "code",
   "execution_count": 195,
   "id": "chubby-monday",
   "metadata": {},
   "outputs": [
    {
     "data": {
      "text/plain": [
       "tensor(0.6524, grad_fn=<MeanBackward0>)"
      ]
     },
     "execution_count": 195,
     "metadata": {},
     "output_type": "execute_result"
    }
   ],
   "source": [
    "loss = torch.nn.MSELoss()\n",
    "z = encoder(state)\n",
    "recon = decoder(z)\n",
    "loss(state, recon)"
   ]
  },
  {
   "cell_type": "code",
   "execution_count": 128,
   "id": "brilliant-uganda",
   "metadata": {},
   "outputs": [
    {
     "data": {
      "text/plain": [
       "['states_gameplay_0.npy',\n",
       " 'states_scaled_gameplay_0.npy',\n",
       " 'actions_gameplay_0.npy',\n",
       " 'next_states_gameplay_0.npy',\n",
       " 'rewards_gameplay_0.npy',\n",
       " 'done_gameplay_0.npy',\n",
       " 'next_states_scaled_gameplay_0.npy']"
      ]
     },
     "execution_count": 128,
     "metadata": {},
     "output_type": "execute_result"
    }
   ],
   "source": [
    "# for tiny\n",
    "files_here = listdir('zipped_npy')\n",
    "np_files = [x for x in files_here if x.endswith('.npy')]\n",
    "np_files"
   ]
  },
  {
   "cell_type": "code",
   "execution_count": 129,
   "id": "mighty-diagram",
   "metadata": {},
   "outputs": [
    {
     "name": "stdout",
     "output_type": "stream",
     "text": [
      "states_gameplay_0.npy\n",
      "states_scaled_gameplay_0.npy\n",
      "actions_gameplay_0.npy\n",
      "next_states_gameplay_0.npy\n",
      "rewards_gameplay_0.npy\n",
      "done_gameplay_0.npy\n",
      "next_states_scaled_gameplay_0.npy\n"
     ]
    }
   ],
   "source": [
    "actions = np.array([])\n",
    "next_states_scaled = np.array([])\n",
    "scaled = np.array([])\n",
    "\n",
    "for idx, file_name in enumerate(np_files):\n",
    "    with open(\"zipped_npy/\"+file_name, 'rb') as f:\n",
    "        current_array = np.load(f) \n",
    "\n",
    "    print(file_name)\n",
    "    if file_name.startswith('states_scaled'):\n",
    "        if len(scaled) == 0:\n",
    "            scaled = current_array\n",
    "        else:\n",
    "            scaled = np.concatenate([scaled, current_array])\n",
    "    elif file_name.startswith('next_states_scaled'):\n",
    "        if len(next_states_scaled) == 0:\n",
    "            next_states_scaled = current_array\n",
    "        else:\n",
    "            next_states_scaled = np.concatenate([next_states_scaled, current_array])\n",
    "    elif file_name.startswith('actions'):\n",
    "        if len(actions) == 0:\n",
    "            actions = current_array\n",
    "        else:\n",
    "            actions = np.concatenate([actions, current_array])"
   ]
  },
  {
   "cell_type": "code",
   "execution_count": 130,
   "id": "important-butterfly",
   "metadata": {},
   "outputs": [
    {
     "data": {
      "text/plain": [
       "<matplotlib.image.AxesImage at 0x7f8c939a49b0>"
      ]
     },
     "execution_count": 130,
     "metadata": {},
     "output_type": "execute_result"
    },
    {
     "data": {
      "image/png": "[encoded data removed]",
      "text/plain": [
       "<Figure size 432x288 with 1 Axes>"
      ]
     },
     "metadata": {
      "needs_background": "light"
     },
     "output_type": "display_data"
    }
   ],
   "source": [
    "plt.imshow(scaled[0])"
   ]
  },
  {
   "cell_type": "code",
   "execution_count": 124,
   "id": "empty-bundle",
   "metadata": {},
   "outputs": [
    {
     "data": {
      "text/plain": [
       "'zipped_npy_tiny/next_states_scaled_gameplay_0.npy'"
      ]
     },
     "execution_count": 124,
     "metadata": {},
     "output_type": "execute_result"
    }
   ],
   "source": [
    "\"zipped_npy_tiny/\"+file_name"
   ]
  },
  {
   "cell_type": "code",
   "execution_count": 156,
   "id": "everyday-battle",
   "metadata": {},
   "outputs": [
    {
     "name": "stdout",
     "output_type": "stream",
     "text": [
      "states_gameplay_0.npy\n"
     ]
    }
   ],
   "source": [
    "actions = np.array([])\n",
    "next_states_scaled = np.array([])\n",
    "scaled = np.array([])\n",
    "\n",
    "file_name = 'states_gameplay_0.npy'\n",
    "with open(file_name, 'rb') as f:\n",
    "    current_array = np.load(f) \n",
    "\n",
    "print(file_name)\n",
    "if file_name.startswith('states_scaled'):\n",
    "    if len(scaled) == 0:\n",
    "        scaled = current_array\n",
    "    else:\n",
    "        scaled = np.concatenate([scaled, current_array])\n",
    "elif file_name.startswith('next_states_scaled'):\n",
    "    if len(next_states_scaled) == 0:\n",
    "        next_states_scaled = current_array\n",
    "    else:\n",
    "        next_states_scaled = np.concatenate([next_states_scaled, current_array])\n",
    "elif file_name.startswith('actions'):\n",
    "    if len(actions) == 0:\n",
    "        actions = current_array\n",
    "    else:\n",
    "        actions = np.concatenate([actions, current_array])"
   ]
  },
  {
   "cell_type": "code",
   "execution_count": 157,
   "id": "other-inspiration",
   "metadata": {},
   "outputs": [
    {
     "data": {
      "text/plain": [
       "(7, 160, 160, 3)"
      ]
     },
     "execution_count": 157,
     "metadata": {},
     "output_type": "execute_result"
    }
   ],
   "source": [
    "current_array.shape"
   ]
  },
  {
   "cell_type": "code",
   "execution_count": 162,
   "id": "hired-citizen",
   "metadata": {},
   "outputs": [
    {
     "data": {
      "text/plain": [
       "<matplotlib.image.AxesImage at 0x7f8c6ad55ba8>"
      ]
     },
     "execution_count": 162,
     "metadata": {},
     "output_type": "execute_result"
    },
    {
     "data": {
      "image/png": "[encoded data removed]",
      "text/plain": [
       "<Figure size 432x288 with 1 Axes>"
      ]
     },
     "metadata": {
      "needs_background": "light"
     },
     "output_type": "display_data"
    }
   ],
   "source": [
    "plt.imshow(current_array[3])"
   ]
  },
  {
   "cell_type": "code",
   "execution_count": null,
   "id": "reported-export",
   "metadata": {},
   "outputs": [],
   "source": [
    "x = encoded(state)\n",
    "model_mu = torch.nn.Linear( , latent_dim)\n",
    "model_logvar = torch.nn.Linear( , latent_dim)\n",
    "\n",
    "mu = model_mu(x)\n",
    "logvar = model_logvar(x)\n",
    "\n",
    "z = reparameterize(mu, logvar)\n",
    "\n",
    "def reparameterize(self, mu, log_var):\n",
    "    \"\"\"\n",
    "    :param mu: mean from the encoder's latent space\n",
    "    :param log_var: log variance from the encoder's latent space\n",
    "    \"\"\"\n",
    "    std = torch.exp(0.5*log_var) # standard deviation\n",
    "    eps = torch.randn_like(std) # `randn_like` as we need the same size\n",
    "    sample = mu + (eps * std) # sampling as if coming from the input space\n",
    "    return sample\n",
    "\n",
    "\n",
    "KLD = -0.5 * torch.sum(1 + logvar - mu.pow(2) - logvar.exp())"
   ]
  }
 ],
 "metadata": {
  "kernelspec": {
   "display_name": "thesis_env",
   "language": "python",
   "name": "thesis_env"
  },
  "language_info": {
   "codemirror_mode": {
    "name": "ipython",
    "version": 3
   },
   "file_extension": ".py",
   "mimetype": "text/x-python",
   "name": "python",
   "nbconvert_exporter": "python",
   "pygments_lexer": "ipython3",
   "version": "3.6.13"
  }
 },
 "nbformat": 4,
 "nbformat_minor": 5
}
